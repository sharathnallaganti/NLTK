{
 "cells": [
  {
   "cell_type": "code",
   "execution_count": 1,
   "id": "3f9686bc",
   "metadata": {
    "_cell_guid": "b1076dfc-b9ad-4769-8c92-a6c4dae69d19",
    "_uuid": "8f2839f25d086af736a60e9eeb907d3b93b6e0e5",
    "execution": {
     "iopub.execute_input": "2024-10-26T21:24:33.871122Z",
     "iopub.status.busy": "2024-10-26T21:24:33.870737Z",
     "iopub.status.idle": "2024-10-26T21:24:37.071043Z",
     "shell.execute_reply": "2024-10-26T21:24:37.069795Z"
    },
    "papermill": {
     "duration": 3.206926,
     "end_time": "2024-10-26T21:24:37.073897",
     "exception": false,
     "start_time": "2024-10-26T21:24:33.866971",
     "status": "completed"
    },
    "tags": []
   },
   "outputs": [],
   "source": [
    "import numpy as np\n",
    "import nltk \n",
    "import pandas as pd\n",
    "import matplotlib.pyplot as plt\n"
   ]
  },
  {
   "cell_type": "markdown",
   "id": "e936111a",
   "metadata": {
    "papermill": {
     "duration": 0.001268,
     "end_time": "2024-10-26T21:24:37.077227",
     "exception": false,
     "start_time": "2024-10-26T21:24:37.075959",
     "status": "completed"
    },
    "tags": []
   },
   "source": [
    "\n"
   ]
  }
 ],
 "metadata": {
  "kaggle": {
   "accelerator": "none",
   "dataSources": [],
   "dockerImageVersionId": 30786,
   "isGpuEnabled": false,
   "isInternetEnabled": false,
   "language": "python",
   "sourceType": "notebook"
  },
  "kernelspec": {
   "display_name": "Python 3",
   "language": "python",
   "name": "python3"
  },
  "language_info": {
   "codemirror_mode": {
    "name": "ipython",
    "version": 3
   },
   "file_extension": ".py",
   "mimetype": "text/x-python",
   "name": "python",
   "nbconvert_exporter": "python",
   "pygments_lexer": "ipython3",
   "version": "3.10.14"
  },
  "papermill": {
   "default_parameters": {},
   "duration": 7.128169,
   "end_time": "2024-10-26T21:24:37.800563",
   "environment_variables": {},
   "exception": null,
   "input_path": "__notebook__.ipynb",
   "output_path": "__notebook__.ipynb",
   "parameters": {},
   "start_time": "2024-10-26T21:24:30.672394",
   "version": "2.6.0"
  }
 },
 "nbformat": 4,
 "nbformat_minor": 5
}
